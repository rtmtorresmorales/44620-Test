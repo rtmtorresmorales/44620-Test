{
 "cells": [
  {
   "cell_type": "code",
   "execution_count": null,
   "id": "a421b3db",
   "metadata": {},
   "outputs": [],
   "source": [
    "## Module 2 Assignment 1 Ramon Torres OCT 28 2022"
   ]
  },
  {
   "cell_type": "code",
   "execution_count": null,
   "id": "667b4593",
   "metadata": {},
   "outputs": [],
   "source": [
    "## Create a new Jupyter Notebook (the name of the notebook should be your S number). Add a Markdown cell that contains your name. Add a Code cell and write Python that uses loops to draw the following pattern:\n",
    "*      *\n",
    "**    **\n",
    "***  ***\n",
    "********"
   ]
  },
  {
   "cell_type": "code",
   "execution_count": 33,
   "id": "79fee4f3",
   "metadata": {},
   "outputs": [
    {
     "name": "stdout",
     "output_type": "stream",
     "text": [
      "['*      *', '**    **', '***  ***', '********']\n",
      "*      * **    ** ***  *** ******** \n",
      "In new line the star pattern\n",
      "*      *\n",
      "**    **\n",
      "***  ***\n",
      "********\n"
     ]
    },
    {
     "data": {
      "text/plain": [
       "[None, None, None, None]"
      ]
     },
     "execution_count": 33,
     "metadata": {},
     "output_type": "execute_result"
    }
   ],
   "source": [
    "list = [\"*      *\", \"**    **\", \"***  ***\", \"********\"]\n",
    "print(list)\n",
    "[print(i, end=' ') for i in list]\n",
    "\n",
    "print(\"\\nIn new line the star pattern\")\n",
    "[print(i) for i in list]\n"
   ]
  }
 ],
 "metadata": {
  "kernelspec": {
   "display_name": "Python 3 (ipykernel)",
   "language": "python",
   "name": "python3"
  },
  "language_info": {
   "codemirror_mode": {
    "name": "ipython",
    "version": 3
   },
   "file_extension": ".py",
   "mimetype": "text/x-python",
   "name": "python",
   "nbconvert_exporter": "python",
   "pygments_lexer": "ipython3",
   "version": "3.9.12"
  }
 },
 "nbformat": 4,
 "nbformat_minor": 5
}
