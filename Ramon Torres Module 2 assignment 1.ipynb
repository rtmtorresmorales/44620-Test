{
 "cells": [
  {
   "cell_type": "code",
   "execution_count": 1,
   "id": "70f54b23-d119-461a-a528-363fd9d442e5",
   "metadata": {},
   "outputs": [],
   "source": [
    "## Module 2 Assignment 1 Ramon Torres OCT 28 2022"
   ]
  },
  {
   "cell_type": "code",
   "execution_count": 44,
   "id": "3efc110b",
   "metadata": {},
   "outputs": [],
   "source": [
    "## 1. Write code that divides any two numbers, stores the result in a variable, and prints the result with an appropriate label."
   ]
  },
  {
   "cell_type": "code",
   "execution_count": 41,
   "id": "58eb1c9e-13de-492e-b17d-6d82f5ecc764",
   "metadata": {},
   "outputs": [
    {
     "name": "stdout",
     "output_type": "stream",
     "text": [
      "Enter the first number: 10\n",
      "Enter the second number: 5\n",
      "The division of two numbers is 2.0\n"
     ]
    }
   ],
   "source": [
    "number1=int(input(\"Enter the first number: \"))\n",
    "number2=int(input(\"Enter the second number: \"))\n",
    "result=number1/number2;\n",
    "print(\"The division of two numbers is\", result)"
   ]
  },
  {
   "cell_type": "code",
   "execution_count": null,
   "id": "ba43ec5a-0f36-4016-a589-6e8caacdf1f3",
   "metadata": {},
   "outputs": [],
   "source": [
    "# 2. Using loops (and potentially conditionals), write Python code that prints the factorial of each integer from 1 through 10 (which you can store in a variable if you want). The factorial of an integer is the product of all of the integers of 1 through the number. Print the result with an appropriate label."
   ]
  },
  {
   "cell_type": "code",
   "execution_count": null,
   "id": "7769e19f",
   "metadata": {},
   "outputs": [],
   "source": [
    "## Calculation of factorial for one integer at a time\n",
    "def factorial(x):\n",
    "\n",
    "    if x == 1:\n",
    "        return 1\n",
    "    else:\n",
    "        return x * factorial(x-1)\n",
    "x = int(input(\"Please enter a number you want the factorial calculated: \"))\n",
    "print(\"The factorial of integer\", x, \"is\", result)"
   ]
  },
  {
   "cell_type": "code",
   "execution_count": 48,
   "id": "c3cf7dcd-b1c0-4aaf-9aa5-49a3becd9310",
   "metadata": {},
   "outputs": [
    {
     "name": "stdout",
     "output_type": "stream",
     "text": [
      "Integer = 0 Factorial value = 1\n",
      "Integer = 1 Factorial value = 1\n",
      "Integer = 2 Factorial value = 2\n",
      "Integer = 3 Factorial value = 6\n",
      "Integer = 4 Factorial value = 24\n",
      "Integer = 5 Factorial value = 120\n",
      "Integer = 6 Factorial value = 720\n",
      "Integer = 7 Factorial value = 5040\n",
      "Integer = 8 Factorial value = 40320\n",
      "Integer = 9 Factorial value = 362880\n",
      "Integer = 10 Factorial value = 3628800\n"
     ]
    }
   ],
   "source": [
    "## Calculation of factorial for a range of integers\n",
    "def factorial(n):\n",
    "    f = 1\n",
    "    while (n > 0):\n",
    "        f = f * n\n",
    "        n = n - 1\n",
    "    return f\n",
    "\n",
    "#a new function that loop the first one\n",
    "def factorial_loop(n):\n",
    "    #in Python 2.x, you should use xrange() instead of range()\n",
    "    for i in range(n+1):\n",
    "        print(\"Integer =\", i, \"Factorial value =\", factorial(i))\n",
    "\n",
    "factorial_loop(10)"
   ]
  },
  {
   "cell_type": "code",
   "execution_count": 50,
   "id": "b7e82e34",
   "metadata": {},
   "outputs": [],
   "source": [
    "## Write a python function that takes a single parameter and calculates and returns the average (mean) of the values in the parameter (which you may assume is iterable). Show that your function works by printing the result of calling the function on the list in the cell below."
   ]
  },
  {
   "cell_type": "code",
   "execution_count": null,
   "id": "4d02c2f7",
   "metadata": {},
   "outputs": [],
   "source": [
    "## testlist = [1,-1,2,-2,3,-3,4,-4]"
   ]
  },
  {
   "cell_type": "code",
   "execution_count": 51,
   "id": "a17c2301",
   "metadata": {
    "scrolled": true
   },
   "outputs": [
    {
     "data": {
      "text/plain": [
       "0"
      ]
     },
     "execution_count": 51,
     "metadata": {},
     "output_type": "execute_result"
    }
   ],
   "source": [
    "import statistics\n",
    "statistics.mean([1,-1,2,-2,3,-3,4,-4])"
   ]
  },
  {
   "cell_type": "code",
   "execution_count": null,
   "id": "3dc61231",
   "metadata": {},
   "outputs": [],
   "source": [
    "## Using your mean function above, write a function that calculates the variance of the list of numbers (see https://en.wikipedia.org/wiki/Variance for more information on the formula)."
   ]
  },
  {
   "cell_type": "code",
   "execution_count": null,
   "id": "3323a151",
   "metadata": {},
   "outputs": [],
   "source": [
    "##\n",
    "list1 = [ 5.670e-1, -1.480e+0, -5.570e-1, -1.470e+0, 7.340e-1, 1.050e+0, 4.480e-1, 2.570e-1, -1.970e+0, -1.460e+0]\n",
    "list2 = [-1.780e+0, 2.640e-1, 1.160e+0, 9.080e-1, 1.780e+0, 1.080e+0, 1.050e+0, -4.630e-2, 1.520e+0, 5.350e-1]\n",
    "# the variances of both lists should be relatively close to 1 (off by less than .15)"
   ]
  },
  {
   "cell_type": "code",
   "execution_count": 54,
   "id": "da54c091",
   "metadata": {},
   "outputs": [
    {
     "name": "stdout",
     "output_type": "stream",
     "text": [
      "The mean of the list1 is = -0.3881\n",
      "The variance of list 1 is = 1.13973309\n"
     ]
    }
   ],
   "source": [
    "# calculate mean\n",
    "list1 = [ 5.670e-1, -1.480e+0, -5.570e-1, -1.470e+0, 7.340e-1, 1.050e+0, 4.480e-1, 2.570e-1, -1.970e+0, -1.460e+0]\n",
    "m = sum(list1) / len(list1)\n",
    "print(\"The mean of the list1 is =\", m)\n",
    "\n",
    "# calculate variance using a list comprehension\n",
    "var_res = sum((xi - m) ** 2 for xi in list1) / len(list1)\n",
    "print(\"The variance of list 1 is =\", var_res)\n"
   ]
  },
  {
   "cell_type": "code",
   "execution_count": 55,
   "id": "86595a6b",
   "metadata": {},
   "outputs": [
    {
     "name": "stdout",
     "output_type": "stream",
     "text": [
      "The mean of the list1 is = 0.64707\n",
      "The variance of list 1 is = 0.9257232841\n"
     ]
    }
   ],
   "source": [
    "list2 = [-1.780e+0, 2.640e-1, 1.160e+0, 9.080e-1, 1.780e+0, 1.080e+0, 1.050e+0, -4.630e-2, 1.520e+0, 5.350e-1]\n",
    "m = sum(list2) / len(list2)\n",
    "print(\"The mean of the list1 is =\", m)\n",
    "\n",
    "# calculate variance using a list comprehension\n",
    "var_res = sum((xi - m) ** 2 for xi in list2) / len(list2)\n",
    "print(\"The variance of list 1 is =\", var_res)"
   ]
  },
  {
   "cell_type": "code",
   "execution_count": null,
   "id": "a03ead3e",
   "metadata": {},
   "outputs": [],
   "source": [
    "## Create a list with at least 15 elements in it. Use list slicing to print the following:\n",
    "The first 5 elements of the list\n",
    "The last 5 elements of the list\n",
    "The list reversed (hint, show the entire list with a stride of -1)\n",
    "Every second element in the list\n",
    "Every third element in the list (stride of 3)"
   ]
  },
  {
   "cell_type": "code",
   "execution_count": 63,
   "id": "eb1b4bc6",
   "metadata": {},
   "outputs": [
    {
     "name": "stdout",
     "output_type": "stream",
     "text": [
      "[1, 2, 3, 4, 5]\n"
     ]
    }
   ],
   "source": [
    "list = [1,2,3,4,5,6,7,8,9,10,11,12,13,14,15]\n",
    "print(list[0:5:1])"
   ]
  },
  {
   "cell_type": "code",
   "execution_count": 76,
   "id": "dfe5a3b1",
   "metadata": {},
   "outputs": [
    {
     "name": "stdout",
     "output_type": "stream",
     "text": [
      "[11, 12, 13, 14, 15]\n"
     ]
    }
   ],
   "source": [
    "list = [1,2,3,4,5,6,7,8,9,10,11,12,13,14,15]\n",
    "print(list[10:15:1])"
   ]
  },
  {
   "cell_type": "code",
   "execution_count": 89,
   "id": "9ffd5e70",
   "metadata": {},
   "outputs": [
    {
     "name": "stdout",
     "output_type": "stream",
     "text": [
      "[15, 14, 13, 12, 11, 10, 9, 8, 7, 6, 5, 4, 3, 2, 1]\n"
     ]
    }
   ],
   "source": [
    "list = [1,2,3,4,5,6,7,8,9,10,11,12,13,14,15]\n",
    "print(list[15::-1])"
   ]
  },
  {
   "cell_type": "code",
   "execution_count": 86,
   "id": "4401b84f",
   "metadata": {},
   "outputs": [
    {
     "name": "stdout",
     "output_type": "stream",
     "text": [
      "[1, 3, 5, 7, 9, 11, 13, 15]\n"
     ]
    }
   ],
   "source": [
    "list = [1,2,3,4,5,6,7,8,9,10,11,12,13,14,15]\n",
    "print(list[0:15:2])"
   ]
  },
  {
   "cell_type": "code",
   "execution_count": 87,
   "id": "21c0a7f4",
   "metadata": {},
   "outputs": [
    {
     "name": "stdout",
     "output_type": "stream",
     "text": [
      "[1, 4, 7, 10, 13]\n"
     ]
    }
   ],
   "source": [
    "list = [1,2,3,4,5,6,7,8,9,10,11,12,13,14,15]\n",
    "print(list[0:15:3])"
   ]
  },
  {
   "cell_type": "code",
   "execution_count": null,
   "id": "20e2600c",
   "metadata": {},
   "outputs": [],
   "source": [
    "## Build a dictionary that contains the following information about this class (with appropriate names as keys):\n",
    "The name\n",
    "The course number\n",
    "The semester/term in which you are taking this course\n",
    "The number of credit hours this course counts for\n",
    "A list of the course learning objectives"
   ]
  },
  {
   "cell_type": "code",
   "execution_count": 91,
   "id": "f9802d1e",
   "metadata": {},
   "outputs": [
    {
     "name": "stdout",
     "output_type": "stream",
     "text": [
      "{'The name': 'Web Mining & Applied Natural Language Processing', 'The course number': '44-620', 'The semester/term in which you are taking this course': 'Fall 02', 'The number of credit hours this course counts for': '3', 'A list of the course learning objectives': '1 to 5'}\n",
      "<class 'dict'>\n"
     ]
    }
   ],
   "source": [
    "#create a dictionary\n",
    "my_dictionary = {'The name': 'Web Mining & Applied Natural Language Processing', 'The course number': '44-620', 'The semester/term in which you are taking this course': 'Fall 02', 'The number of credit hours this course counts for': '3', 'A list of the course learning objectives': '1 to 5'}\n",
    "\n",
    "print(my_dictionary)\n",
    "\n",
    "#check data type\n",
    "print(type(my_dictionary))"
   ]
  },
  {
   "cell_type": "code",
   "execution_count": null,
   "id": "f90fa3fc",
   "metadata": {},
   "outputs": [],
   "source": [
    "## Given the dictionary defined in the code cell below, print the list of level 3 spells the character has.\n",
    "  print(player_character.spells())"
   ]
  },
  {
   "cell_type": "code",
   "execution_count": 133,
   "id": "fbc7de73",
   "metadata": {},
   "outputs": [
    {
     "name": "stdout",
     "output_type": "stream",
     "text": [
      "['Mass Healing Word', 'Nondetection', 'Revivify', 'Feign Death', 'Speak with Dead']\n"
     ]
    }
   ],
   "source": [
    "player_character = {'name': 'Kitab',\n",
    "                   'class': [('Cleric: Knowledge', 7)],\n",
    "                   'spells': {'cantrip': ['Guidance', 'Light', 'Thaumaturgy', 'Toll the Dead', 'Word of Radiance'],\n",
    "                             'level 1': ['Command', 'Detect Magic', 'Healing Word', 'Identify', 'Sleep'],\n",
    "                             'level 2': ['Augury', 'Calm Emotions', 'Command', 'Invisibility', 'Lesser Restoration'],\n",
    "                             'level 3': ['Mass Healing Word', 'Nondetection', 'Revivify', 'Feign Death', 'Speak with Dead'],\n",
    "                             'level 4': ['Banishment', 'Confusion']}\n",
    "                   }\n",
    "\n",
    "print(player_character['spells']['level 3'])"
   ]
  },
  {
   "cell_type": "code",
   "execution_count": null,
   "id": "a340d840",
   "metadata": {},
   "outputs": [],
   "source": [
    "## Write code to determine the number of unique elements in the list below. You MUST use a set in finding your solution. Print the number of unique values in the list with an appropriate label."
   ]
  },
  {
   "cell_type": "code",
   "execution_count": 129,
   "id": "a5d120c4",
   "metadata": {},
   "outputs": [
    {
     "name": "stdout",
     "output_type": "stream",
     "text": [
      "[10, 11, 10, 8, 1, 12, 0, 1, 6, 5, 5, 13, 6, 15, 0, 0, 1, 1, 9, 7]\n",
      "The unique values from list of numbers provided: {0, 1, 5, 6, 7, 8, 9, 10, 11, 12, 13, 15}\n"
     ]
    }
   ],
   "source": [
    "values = [10, 11, 10, 8, 1, 12, 0, 1, 6, 5, 5, 13, 6, 15, 0, 0, 1, 1, 9, 7]\n",
    "unique_values = []\n",
    "print (values)\n",
    "unique_value =set(values)\n",
    "print(\"The unique values from list of numbers provided:\", unique_value)\n",
    "\n"
   ]
  }
 ],
 "metadata": {
  "kernelspec": {
   "display_name": "Python 3 (ipykernel)",
   "language": "python",
   "name": "python3"
  },
  "language_info": {
   "codemirror_mode": {
    "name": "ipython",
    "version": 3
   },
   "file_extension": ".py",
   "mimetype": "text/x-python",
   "name": "python",
   "nbconvert_exporter": "python",
   "pygments_lexer": "ipython3",
   "version": "3.9.12"
  }
 },
 "nbformat": 4,
 "nbformat_minor": 5
}
